{
 "cells": [
  {
   "cell_type": "code",
   "execution_count": 1,
   "metadata": {},
   "outputs": [],
   "source": [
    "from pyspark.sql import SparkSession\n",
    "from pyspark.sql.functions import col, from_json, sum as spark_sum, avg\n",
    "from pyspark.sql.types import StructType, StructField, StringType, DoubleType, IntegerType, TimestampType"
   ]
  },
  {
   "cell_type": "code",
   "execution_count": 2,
   "metadata": {},
   "outputs": [],
   "source": [
    "# Tạo SparkSession\n",
    "spark = SparkSession.builder \\\n",
    "    .appName(\"Taxi Trip Analysis\") \\\n",
    "    .config(\"spark.jars.packages\", \"org.apache.spark:spark-sql-kafka-0-10_2.12:3.5.2\") \\\n",
    "    .getOrCreate()"
   ]
  },
  {
   "cell_type": "code",
   "execution_count": 3,
   "metadata": {},
   "outputs": [],
   "source": [
    "schema = StructType([\n",
    "    StructField(\"VendorID\", IntegerType(), True),\n",
    "    StructField(\"tpep_pickup_datetime\", TimestampType(), True),\n",
    "    StructField(\"tpep_dropoff_datetime\", TimestampType(), True),\n",
    "    StructField(\"passenger_count\", IntegerType(), True),\n",
    "    StructField(\"trip_distance\", DoubleType(), True),\n",
    "    StructField(\"RatecodeID\", IntegerType(), True),\n",
    "    StructField(\"store_and_fwd_flag\", StringType(), True),\n",
    "    StructField(\"PULocationID\", IntegerType(), True),\n",
    "    StructField(\"DOLocationID\", IntegerType(), True),\n",
    "    StructField(\"payment_type\", IntegerType(), True),\n",
    "    StructField(\"fare_amount\", DoubleType(), True),\n",
    "    StructField(\"extra\", DoubleType(), True),\n",
    "    StructField(\"mta_tax\", DoubleType(), True),\n",
    "    StructField(\"tip_amount\", DoubleType(), True),\n",
    "    StructField(\"tolls_amount\", DoubleType(), True),\n",
    "    StructField(\"improvement_surcharge\", DoubleType(), True),\n",
    "    StructField(\"total_amount\", DoubleType(), True),\n",
    "    StructField(\"congestion_surcharge\", DoubleType(), True),\n",
    "    StructField(\"Airport_fee\", DoubleType(), True)\n",
    "])"
   ]
  },
  {
   "cell_type": "code",
   "execution_count": 4,
   "metadata": {},
   "outputs": [],
   "source": [
    "df = spark.readStream \\\n",
    "    .format(\"kafka\") \\\n",
    "    .option(\"kafka.bootstrap.servers\", \"localhost:9092\") \\\n",
    "    .option(\"subscribe\", \"trip_data\") \\\n",
    "    .option(\"startingOffsets\", \"earliest\") \\\n",
    "    .load()"
   ]
  },
  {
   "cell_type": "code",
   "execution_count": 5,
   "metadata": {},
   "outputs": [],
   "source": [
    "# Giải mã dữ liệu từ định dạng JSON\n",
    "trip_data = df.selectExpr(\"CAST(value AS STRING)\") \\\n",
    "    .select(from_json(col(\"value\"), schema).alias(\"data\")) \\\n",
    "    .select(\"data.*\")"
   ]
  },
  {
   "cell_type": "code",
   "execution_count": 6,
   "metadata": {},
   "outputs": [],
   "source": [
    "# Thêm watermark dựa trên tpep_pickup_datetime\n",
    "trip_data_with_watermark = trip_data.withWatermark(\"tpep_pickup_datetime\", \"15 minutes\")"
   ]
  },
  {
   "cell_type": "code",
   "execution_count": 7,
   "metadata": {},
   "outputs": [],
   "source": [
    "# Tính tổng số chuyến đi, tổng doanh thu, và khoảng cách trung bình\n",
    "trip_analysis = trip_data_with_watermark.groupBy(\"VendorID\").agg(\n",
    "    spark_sum(\"total_amount\").alias(\"Total_Revenue\"),\n",
    "    spark_sum(\"trip_distance\").alias(\"Total_Distance\"),\n",
    "    avg(\"trip_distance\").alias(\"Average_Distance\"),\n",
    "    spark_sum(\"passenger_count\").alias(\"Total_Passengers\")\n",
    ")"
   ]
  },
  {
   "cell_type": "code",
   "execution_count": 8,
   "metadata": {},
   "outputs": [
    {
     "name": "stdout",
     "output_type": "stream",
     "text": [
      "Processing batch id: 0\n",
      "+--------+------------------+-----------------+------------------+----------------+\n",
      "|VendorID|     Total_Revenue|   Total_Distance|  Average_Distance|Total_Passengers|\n",
      "+--------+------------------+-----------------+------------------+----------------+\n",
      "|       1|10560.399999999996|           1620.2| 6.137121212121213|            NULL|\n",
      "|       2| 51305.01999999999|8741.189999999995|7.1766748768472866|            NULL|\n",
      "+--------+------------------+-----------------+------------------+----------------+\n",
      "\n"
     ]
    },
    {
     "data": {
      "text/plain": [
       "False"
      ]
     },
     "execution_count": 8,
     "metadata": {},
     "output_type": "execute_result"
    },
    {
     "name": "stdout",
     "output_type": "stream",
     "text": [
      "Processing batch id: 1\n",
      "+--------+-----------------+-----------------+-----------------+----------------+\n",
      "|VendorID|    Total_Revenue|   Total_Distance| Average_Distance|Total_Passengers|\n",
      "+--------+-----------------+-----------------+-----------------+----------------+\n",
      "|       2|51575.48999999999|8779.019999999995|7.160701468189229|            NULL|\n",
      "+--------+-----------------+-----------------+-----------------+----------------+\n",
      "\n",
      "Processing batch id: 2\n",
      "+--------+-----------------+-----------------+------------------+----------------+\n",
      "|VendorID|    Total_Revenue|   Total_Distance|  Average_Distance|Total_Passengers|\n",
      "+--------+-----------------+-----------------+------------------+----------------+\n",
      "|       2|51838.32999999999|8823.809999999996|7.1621834415584384|            NULL|\n",
      "+--------+-----------------+-----------------+------------------+----------------+\n",
      "\n",
      "Processing batch id: 3\n",
      "+--------+-----------------+-----------------+-----------------+----------------+\n",
      "|VendorID|    Total_Revenue|   Total_Distance| Average_Distance|Total_Passengers|\n",
      "+--------+-----------------+-----------------+-----------------+----------------+\n",
      "|       2|52009.50999999999|8837.929999999997|7.133115415657786|            NULL|\n",
      "+--------+-----------------+-----------------+-----------------+----------------+\n",
      "\n",
      "Processing batch id: 4\n",
      "+--------+-----------------+-----------------+-----------------+----------------+\n",
      "|VendorID|    Total_Revenue|   Total_Distance| Average_Distance|Total_Passengers|\n",
      "+--------+-----------------+-----------------+-----------------+----------------+\n",
      "|       2|52132.36999999999|8845.829999999996|7.105084337349394|            NULL|\n",
      "+--------+-----------------+-----------------+-----------------+----------------+\n",
      "\n"
     ]
    }
   ],
   "source": [
    "def process_batch(batch_df, batch_id):\n",
    "    print(f\"Processing batch id: {batch_id}\")\n",
    "    batch_df.show()  # Hiển thị kết quả của batch\n",
    "\n",
    "# test các output mode khác: append, complete\n",
    "\n",
    "query = trip_analysis.writeStream \\\n",
    "    .outputMode(\"update\") \\\n",
    "    .foreachBatch(process_batch) \\\n",
    "    .start()\n",
    "\n",
    "# Chờ tiến trình kết thúc\n",
    "query.awaitTermination(timeout=60)\n"
   ]
  }
 ],
 "metadata": {
  "kernelspec": {
   "display_name": ".venv",
   "language": "python",
   "name": "python3"
  },
  "language_info": {
   "codemirror_mode": {
    "name": "ipython",
    "version": 3
   },
   "file_extension": ".py",
   "mimetype": "text/x-python",
   "name": "python",
   "nbconvert_exporter": "python",
   "pygments_lexer": "ipython3",
   "version": "3.9.12"
  }
 },
 "nbformat": 4,
 "nbformat_minor": 2
}
